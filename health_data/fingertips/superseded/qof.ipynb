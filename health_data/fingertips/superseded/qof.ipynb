{
 "cells": [
  {
   "cell_type": "code",
   "execution_count": 3,
   "metadata": {},
   "outputs": [],
   "source": [
    "# dark theme extension https://stackoverflow.com/questions/46510192/change-the-theme-in-jupyter-notebook\n",
    "import fingertips_py as ftp\n",
    "import pandas as pd\n",
    "pd.set_option(\"display.max_rows\", None, \"display.max_columns\", None)\n",
    "import os\n",
    "pd.set_option('display.max_colwidth', -1)    # stop the column text truncating... \n",
    "pd.set_option(\"display.max_rows\", None, \"display.max_columns\", None)\n",
    "import matplotlib.pyplot as plt\n",
    "import seaborn as sns\n",
    "import numpy as np"
   ]
  },
  {
   "cell_type": "code",
   "execution_count": 4,
   "metadata": {},
   "outputs": [],
   "source": [
    "# concat indicator data, output as a CSV file\n",
    "def _concat_output_data(indicator_ids, name):\n",
    "    directory = './data_output/{0}'.format(name)\n",
    "    if not os.path.exists(directory):\n",
    "        os.makedirs(directory)\n",
    "        \n",
    "    lst_df = []\n",
    "    for ids in indicator_ids:\n",
    "        print('processing for id: ', ids)\n",
    "        tmp_d = ftp.get_data_for_indicator_at_all_available_geographies(ids)\n",
    "        lst_df.append(tmp_d)\n",
    "        \n",
    "    tmp_concat = pd.concat(lst_df, axis=0, ignore_index=True)\n",
    "    \n",
    "    tmp_concat.to_csv(directory + '/' +  name + '.csv')\n",
    "    \n",
    "    # free memory\n",
    "    tmp_concat= None \n",
    "    lst_df = None  "
   ]
  },
  {
   "cell_type": "code",
   "execution_count": 5,
   "metadata": {},
   "outputs": [
    {
     "name": "stdout",
     "output_type": "stream",
     "text": [
      "processing for id:  219\n"
     ]
    },
    {
     "name": "stderr",
     "output_type": "stream",
     "text": [
      "/opt/conda/lib/python3.6/site-packages/ipykernel_launcher.py:1: DtypeWarning: Columns (20) have mixed types. Specify dtype option on import or set low_memory=False.\n",
      "  \"\"\"Entry point for launching an IPython kernel.\n"
     ]
    },
    {
     "name": "stdout",
     "output_type": "stream",
     "text": [
      "processing for id:  241\n"
     ]
    },
    {
     "name": "stderr",
     "output_type": "stream",
     "text": [
      "/opt/conda/lib/python3.6/site-packages/ipykernel_launcher.py:1: DtypeWarning: Columns (20) have mixed types. Specify dtype option on import or set low_memory=False.\n",
      "  \"\"\"Entry point for launching an IPython kernel.\n"
     ]
    },
    {
     "name": "stdout",
     "output_type": "stream",
     "text": [
      "processing for id:  273\n"
     ]
    },
    {
     "name": "stderr",
     "output_type": "stream",
     "text": [
      "/opt/conda/lib/python3.6/site-packages/ipykernel_launcher.py:1: DtypeWarning: Columns (20) have mixed types. Specify dtype option on import or set low_memory=False.\n",
      "  \"\"\"Entry point for launching an IPython kernel.\n"
     ]
    },
    {
     "name": "stdout",
     "output_type": "stream",
     "text": [
      "processing for id:  262\n"
     ]
    },
    {
     "name": "stderr",
     "output_type": "stream",
     "text": [
      "/opt/conda/lib/python3.6/site-packages/ipykernel_launcher.py:1: DtypeWarning: Columns (19,20) have mixed types. Specify dtype option on import or set low_memory=False.\n",
      "  \"\"\"Entry point for launching an IPython kernel.\n"
     ]
    },
    {
     "name": "stdout",
     "output_type": "stream",
     "text": [
      "processing for id:  258\n"
     ]
    },
    {
     "name": "stderr",
     "output_type": "stream",
     "text": [
      "/opt/conda/lib/python3.6/site-packages/ipykernel_launcher.py:1: DtypeWarning: Columns (9,10,19,20) have mixed types. Specify dtype option on import or set low_memory=False.\n",
      "  \"\"\"Entry point for launching an IPython kernel.\n"
     ]
    },
    {
     "name": "stdout",
     "output_type": "stream",
     "text": [
      "processing for id:  212\n"
     ]
    },
    {
     "name": "stderr",
     "output_type": "stream",
     "text": [
      "/opt/conda/lib/python3.6/site-packages/ipykernel_launcher.py:1: DtypeWarning: Columns (20) have mixed types. Specify dtype option on import or set low_memory=False.\n",
      "  \"\"\"Entry point for launching an IPython kernel.\n"
     ]
    },
    {
     "name": "stdout",
     "output_type": "stream",
     "text": [
      "processing for id:  280\n"
     ]
    },
    {
     "name": "stderr",
     "output_type": "stream",
     "text": [
      "/opt/conda/lib/python3.6/site-packages/ipykernel_launcher.py:1: DtypeWarning: Columns (19,20) have mixed types. Specify dtype option on import or set low_memory=False.\n",
      "  \"\"\"Entry point for launching an IPython kernel.\n"
     ]
    },
    {
     "name": "stdout",
     "output_type": "stream",
     "text": [
      "processing for id:  253\n"
     ]
    },
    {
     "name": "stderr",
     "output_type": "stream",
     "text": [
      "/opt/conda/lib/python3.6/site-packages/ipykernel_launcher.py:1: DtypeWarning: Columns (19,20) have mixed types. Specify dtype option on import or set low_memory=False.\n",
      "  \"\"\"Entry point for launching an IPython kernel.\n"
     ]
    },
    {
     "name": "stdout",
     "output_type": "stream",
     "text": [
      "processing for id:  285\n"
     ]
    },
    {
     "name": "stderr",
     "output_type": "stream",
     "text": [
      "/opt/conda/lib/python3.6/site-packages/ipykernel_launcher.py:1: DtypeWarning: Columns (19,20) have mixed types. Specify dtype option on import or set low_memory=False.\n",
      "  \"\"\"Entry point for launching an IPython kernel.\n"
     ]
    }
   ],
   "source": [
    "# _concat_output_data([219, 241,273,262,258,212,280,253,285], 'qof')\n",
    "\n"
   ]
  },
  {
   "cell_type": "code",
   "execution_count": null,
   "metadata": {},
   "outputs": [],
   "source": [
    "qof_df = pd.read_csv('./data_output/qof/qof.csv')"
   ]
  },
  {
   "cell_type": "code",
   "execution_count": null,
   "metadata": {},
   "outputs": [],
   "source": [
    "qof_df['Area Type'].unique()     \n",
    "\n",
    "\n",
    "\n",
    "\n",
    "\n",
    "\n",
    "# restrict the dataframe to CCG to make consistent with the mortality and admission indicators.\n",
    "qof_df = qof_df[qof_df['Area Type']== 'CCGs (since 4/20)']\n",
    "qof_df['Indicator Name'].unique()\n",
    "# restrict the Df to CCGs in our inner/outer radius   (use .isin(() ))\n",
    "inner_ccgs = ['NHS Buckinghamshire CCG', 'NHS Ealing CCG', 'NHS East Berkshire CCG', 'NHS Hillingdon CCG',\n",
    " 'NHS Hounslow CCG', 'NHS North West Surrey CCG']\n",
    "outer_ccgs =  ['NHS Basildon And Brentwood CCG', 'NHS Berkshire West CCG', \n",
    "               'NHS Brent CCG', 'NHS Croydon CCG', 'NHS Guildford and Waverley CCG', \n",
    "               'NHS Hammersmith And Fulham CCG', 'NHS Harrow CCG', 'NHS Herts Valleys CCG', \n",
    "               'NHS Kingston CCG', 'NHS Merton CCG', 'NHS Oxfordshire CCG', 'NHS Richmond CCG', \n",
    "               'NHS Surrey Heath CCG', 'NHS Sutton CCG', 'NHS Wandsworth CCG']   \n",
    "qof_df = qof_df[qof_df['Area Name'].isin(inner_ccgs + outer_ccgs)]\n",
    "# Value                                       1241 non-null float64\n",
    "# Question, find out, whether there are Nans,. if so, which CCGs? (and are the nans across all years for this ccg or only one year etc?)\n",
    "qof_df.info()a"
   ]
  }
 ],
 "metadata": {
  "kernelspec": {
   "display_name": "Python 3",
   "language": "python",
   "name": "python3"
  },
  "language_info": {
   "codemirror_mode": {
    "name": "ipython",
    "version": 3
   },
   "file_extension": ".py",
   "mimetype": "text/x-python",
   "name": "python",
   "nbconvert_exporter": "python",
   "pygments_lexer": "ipython3",
   "version": "3.6.7"
  }
 },
 "nbformat": 4,
 "nbformat_minor": 2
}
